{
  "nbformat": 4,
  "nbformat_minor": 0,
  "metadata": {
    "colab": {
      "provenance": [],
      "gpuType": "T4"
    },
    "kernelspec": {
      "name": "python3",
      "display_name": "Python 3"
    },
    "language_info": {
      "name": "python"
    },
    "accelerator": "GPU"
  },
  "cells": [
    {
      "cell_type": "markdown",
      "source": [
        "Mount Google Drive"
      ],
      "metadata": {
        "id": "l2k6_FNVouIH"
      }
    },
    {
      "cell_type": "code",
      "execution_count": 27,
      "metadata": {
        "id": "qm_jFZq0mB2Z",
        "colab": {
          "base_uri": "https://localhost:8080/"
        },
        "outputId": "1d729f1d-4d8a-46df-81c5-293c6ba94a41"
      },
      "outputs": [
        {
          "output_type": "stream",
          "name": "stdout",
          "text": [
            "Drive already mounted at /content/drive; to attempt to forcibly remount, call drive.mount(\"/content/drive\", force_remount=True).\n"
          ]
        }
      ],
      "source": [
        "from google.colab import drive\n",
        "drive.mount('/content/drive')"
      ]
    },
    {
      "cell_type": "code",
      "source": [
        "train_dir = '/content/drive/MyDrive/disease_skin/train'\n",
        "test_dir = '/content/drive/MyDrive/disease_skin/test'"
      ],
      "metadata": {
        "id": "QNC7QXSfohTo"
      },
      "execution_count": 28,
      "outputs": []
    },
    {
      "cell_type": "markdown",
      "source": [
        "Augmentasi Data"
      ],
      "metadata": {
        "id": "yFs4nmY0oygK"
      }
    },
    {
      "cell_type": "code",
      "source": [
        "import tensorflow as tf\n",
        "from tensorflow.keras.applications import InceptionV3\n",
        "from tensorflow.keras.layers import Dense, GlobalAveragePooling2D, Dropout\n",
        "from tensorflow.keras.models import Model\n",
        "from tensorflow.keras.optimizers import Adam\n",
        "from tensorflow.keras.callbacks import LearningRateScheduler, EarlyStopping\n",
        "from tensorflow.keras.preprocessing.image import ImageDataGenerator"
      ],
      "metadata": {
        "id": "FCLhEW0CxR4Z"
      },
      "execution_count": 29,
      "outputs": []
    },
    {
      "cell_type": "code",
      "source": [
        "# Image size\n",
        "img_size = (224, 224)\n",
        "\n",
        "# Training with more augmentation\n",
        "train_datagen = ImageDataGenerator(\n",
        "    rescale=1./255,\n",
        "    rotation_range=40,\n",
        "    width_shift_range=0.2,\n",
        "    height_shift_range=0.2,\n",
        "    shear_range=0.2,\n",
        "    zoom_range=0.2,\n",
        "    horizontal_flip=True,\n",
        "    fill_mode='nearest',\n",
        "    validation_split=0.2\n",
        ")"
      ],
      "metadata": {
        "id": "6--z9TE73hiK"
      },
      "execution_count": 30,
      "outputs": []
    },
    {
      "cell_type": "code",
      "source": [
        "test_datagen = ImageDataGenerator(rescale=1./255)"
      ],
      "metadata": {
        "id": "oP7pSziU3zQQ"
      },
      "execution_count": 31,
      "outputs": []
    },
    {
      "cell_type": "code",
      "source": [
        "# Train and validation generators\n",
        "train_generator = train_datagen.flow_from_directory(\n",
        "    train_dir,\n",
        "    target_size=img_size,\n",
        "    batch_size=32,\n",
        "    class_mode='categorical',\n",
        "    subset='training'\n",
        ")\n",
        "\n",
        "validation_generator = train_datagen.flow_from_directory(\n",
        "    train_dir,\n",
        "    target_size=img_size,\n",
        "    batch_size=32,\n",
        "    class_mode='categorical',\n",
        "    subset='validation'\n",
        ")"
      ],
      "metadata": {
        "colab": {
          "base_uri": "https://localhost:8080/"
        },
        "id": "VaiBZl4x-Fb7",
        "outputId": "6b4e09f9-8f9b-40ee-d6f0-b19483f7e566"
      },
      "execution_count": 32,
      "outputs": [
        {
          "output_type": "stream",
          "name": "stdout",
          "text": [
            "Found 320 images belonging to 5 classes.\n",
            "Found 80 images belonging to 5 classes.\n"
          ]
        }
      ]
    },
    {
      "cell_type": "code",
      "source": [
        "# Test generator\n",
        "test_generator = test_datagen.flow_from_directory(\n",
        "    test_dir,\n",
        "    target_size=img_size,\n",
        "    batch_size=32,\n",
        "    class_mode='categorical'\n",
        ")"
      ],
      "metadata": {
        "colab": {
          "base_uri": "https://localhost:8080/"
        },
        "id": "t4AT0UjDMi6A",
        "outputId": "d97c0b90-1a21-430a-ca69-4cce58cab7fc"
      },
      "execution_count": 33,
      "outputs": [
        {
          "output_type": "stream",
          "name": "stdout",
          "text": [
            "Found 100 images belonging to 5 classes.\n"
          ]
        }
      ]
    },
    {
      "cell_type": "code",
      "source": [
        "# Load InceptionV3 with pretrained weights\n",
        "base_model = InceptionV3(weights='imagenet', include_top=False, input_shape=(224, 224, 3))\n",
        "\n",
        "# Unfreeze the base model (more layers)\n",
        "for layer in base_model.layers[-50:]:\n",
        "    layer.trainable = True\n",
        "\n",
        "# Add custom layers on top of the base model\n",
        "x = base_model.output\n",
        "x = GlobalAveragePooling2D()(x)\n",
        "x = Dense(512, activation='relu')(x)\n",
        "x = Dropout(0.5)(x)\n",
        "predictions = Dense(train_generator.num_classes, activation='softmax')(x)\n",
        "\n",
        "model = Model(inputs=base_model.input, outputs=predictions)"
      ],
      "metadata": {
        "id": "fnthVr1r-GJR"
      },
      "execution_count": 34,
      "outputs": []
    },
    {
      "cell_type": "code",
      "source": [
        "# Compile the model\n",
        "opt = Adam(learning_rate=1e-4)\n",
        "model.compile(optimizer=opt, loss='categorical_crossentropy', metrics=['accuracy'])\n",
        "\n",
        "# Learning rate scheduler\n",
        "def lr_scheduler(epoch, lr):\n",
        "    if epoch < 10:\n",
        "        return lr\n",
        "    else:\n",
        "        return lr * tf.math.exp(-0.1)"
      ],
      "metadata": {
        "id": "xUAElrdZ-IFH"
      },
      "execution_count": 35,
      "outputs": []
    },
    {
      "cell_type": "code",
      "source": [
        "# Early stopping\n",
        "early_stopping = EarlyStopping(monitor='val_loss', patience=10, restore_best_weights=True)\n",
        "\n",
        "# Training\n",
        "history = model.fit(\n",
        "    train_generator,\n",
        "    epochs=50,\n",
        "    validation_data=validation_generator,\n",
        "    callbacks=[LearningRateScheduler(lr_scheduler), early_stopping]\n",
        ")"
      ],
      "metadata": {
        "colab": {
          "base_uri": "https://localhost:8080/"
        },
        "id": "07rNt0g4-KLn",
        "outputId": "557be42d-9608-40cc-89c4-36be1bc2d4a5"
      },
      "execution_count": 36,
      "outputs": [
        {
          "output_type": "stream",
          "name": "stdout",
          "text": [
            "Epoch 1/50\n",
            "10/10 [==============================] - 41s 1s/step - loss: 1.4360 - accuracy: 0.3750 - val_loss: 1.1957 - val_accuracy: 0.4250 - lr: 1.0000e-04\n",
            "Epoch 2/50\n",
            "10/10 [==============================] - 9s 915ms/step - loss: 0.7235 - accuracy: 0.7750 - val_loss: 1.4880 - val_accuracy: 0.4375 - lr: 1.0000e-04\n",
            "Epoch 3/50\n",
            "10/10 [==============================] - 8s 800ms/step - loss: 0.4845 - accuracy: 0.8438 - val_loss: 1.6842 - val_accuracy: 0.4625 - lr: 1.0000e-04\n",
            "Epoch 4/50\n",
            "10/10 [==============================] - 10s 973ms/step - loss: 0.3126 - accuracy: 0.8844 - val_loss: 1.5369 - val_accuracy: 0.5000 - lr: 1.0000e-04\n",
            "Epoch 5/50\n",
            "10/10 [==============================] - 10s 988ms/step - loss: 0.1978 - accuracy: 0.9406 - val_loss: 1.1769 - val_accuracy: 0.6625 - lr: 1.0000e-04\n",
            "Epoch 6/50\n",
            "10/10 [==============================] - 8s 777ms/step - loss: 0.1905 - accuracy: 0.9531 - val_loss: 1.4079 - val_accuracy: 0.6000 - lr: 1.0000e-04\n",
            "Epoch 7/50\n",
            "10/10 [==============================] - 9s 956ms/step - loss: 0.1566 - accuracy: 0.9438 - val_loss: 1.5834 - val_accuracy: 0.6000 - lr: 1.0000e-04\n",
            "Epoch 8/50\n",
            "10/10 [==============================] - 9s 920ms/step - loss: 0.0850 - accuracy: 0.9781 - val_loss: 1.6445 - val_accuracy: 0.6125 - lr: 1.0000e-04\n",
            "Epoch 9/50\n",
            "10/10 [==============================] - 9s 817ms/step - loss: 0.0870 - accuracy: 0.9781 - val_loss: 1.7190 - val_accuracy: 0.5750 - lr: 1.0000e-04\n",
            "Epoch 10/50\n",
            "10/10 [==============================] - 10s 964ms/step - loss: 0.0947 - accuracy: 0.9750 - val_loss: 1.5545 - val_accuracy: 0.6000 - lr: 1.0000e-04\n",
            "Epoch 11/50\n",
            "10/10 [==============================] - 8s 775ms/step - loss: 0.0743 - accuracy: 0.9781 - val_loss: 1.4766 - val_accuracy: 0.6250 - lr: 9.0484e-05\n",
            "Epoch 12/50\n",
            "10/10 [==============================] - 10s 935ms/step - loss: 0.0686 - accuracy: 0.9844 - val_loss: 1.4649 - val_accuracy: 0.6500 - lr: 8.1873e-05\n",
            "Epoch 13/50\n",
            "10/10 [==============================] - 9s 952ms/step - loss: 0.0570 - accuracy: 0.9812 - val_loss: 1.5216 - val_accuracy: 0.6375 - lr: 7.4082e-05\n",
            "Epoch 14/50\n",
            "10/10 [==============================] - 8s 771ms/step - loss: 0.0472 - accuracy: 0.9906 - val_loss: 1.4059 - val_accuracy: 0.6750 - lr: 6.7032e-05\n",
            "Epoch 15/50\n",
            "10/10 [==============================] - 10s 929ms/step - loss: 0.0463 - accuracy: 0.9906 - val_loss: 1.5376 - val_accuracy: 0.6500 - lr: 6.0653e-05\n"
          ]
        }
      ]
    },
    {
      "cell_type": "code",
      "source": [
        "# Evaluation\n",
        "test_loss, test_acc = model.evaluate(test_generator)\n",
        "print(f'Test Accuracy: {test_acc * 100:.2f}%')"
      ],
      "metadata": {
        "colab": {
          "base_uri": "https://localhost:8080/"
        },
        "id": "tLDaeQ8T-LgJ",
        "outputId": "8867f3e4-f4ef-4f7a-878d-f4f80e7fd47f"
      },
      "execution_count": 37,
      "outputs": [
        {
          "output_type": "stream",
          "name": "stdout",
          "text": [
            "4/4 [==============================] - 1s 193ms/step - loss: 0.4279 - accuracy: 0.8600\n",
            "Test Accuracy: 86.00%\n"
          ]
        }
      ]
    },
    {
      "cell_type": "code",
      "source": [
        "# Classification Report\n",
        "from sklearn.metrics import classification_report\n",
        "import numpy as np\n",
        "\n",
        "# Predict classes for test set\n",
        "Y_pred = model.predict(test_generator)\n",
        "y_pred = np.argmax(Y_pred, axis=1)\n",
        "\n",
        "# True classes for test set\n",
        "true_classes = test_generator.classes\n",
        "\n",
        "# Class labels\n",
        "class_labels = list(test_generator.class_indices.keys())\n",
        "\n",
        "# Generate classification report\n",
        "report = classification_report(true_classes, y_pred, target_names=class_labels)\n",
        "print(report)"
      ],
      "metadata": {
        "colab": {
          "base_uri": "https://localhost:8080/"
        },
        "id": "PX64oLqjLVn_",
        "outputId": "a33e8ea1-f9da-4f54-d545-9db089d4afd3"
      },
      "execution_count": 38,
      "outputs": [
        {
          "output_type": "stream",
          "name": "stdout",
          "text": [
            "4/4 [==============================] - 2s 213ms/step\n",
            "              precision    recall  f1-score   support\n",
            "\n",
            "  Basal Cell       0.24      0.25      0.24        20\n",
            "  Dermatitis       0.24      0.35      0.29        20\n",
            "      Eczema       0.10      0.05      0.07        20\n",
            " Melanocytic       0.28      0.25      0.26        20\n",
            "    Melanoma       0.27      0.30      0.29        20\n",
            "\n",
            "    accuracy                           0.24       100\n",
            "   macro avg       0.23      0.24      0.23       100\n",
            "weighted avg       0.23      0.24      0.23       100\n",
            "\n"
          ]
        }
      ]
    }
  ]
}