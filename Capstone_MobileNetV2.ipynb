{
  "nbformat": 4,
  "nbformat_minor": 0,
  "metadata": {
    "colab": {
      "provenance": [],
      "gpuType": "T4"
    },
    "kernelspec": {
      "name": "python3",
      "display_name": "Python 3"
    },
    "language_info": {
      "name": "python"
    },
    "accelerator": "GPU"
  },
  "cells": [
    {
      "cell_type": "markdown",
      "source": [
        "Mount Google Drive"
      ],
      "metadata": {
        "id": "l2k6_FNVouIH"
      }
    },
    {
      "cell_type": "code",
      "execution_count": 89,
      "metadata": {
        "colab": {
          "base_uri": "https://localhost:8080/"
        },
        "id": "qm_jFZq0mB2Z",
        "outputId": "c0488e7d-0ab9-41e4-bc8d-4467c7f2d9d0"
      },
      "outputs": [
        {
          "output_type": "stream",
          "name": "stdout",
          "text": [
            "Drive already mounted at /content/drive; to attempt to forcibly remount, call drive.mount(\"/content/drive\", force_remount=True).\n"
          ]
        }
      ],
      "source": [
        "from google.colab import drive\n",
        "drive.mount('/content/drive')"
      ]
    },
    {
      "cell_type": "code",
      "source": [
        "train_dir = '/content/drive/MyDrive/Skin Disease_dataset/TRAIN'\n",
        "test_dir = '/content/drive/MyDrive/Skin Disease_dataset/TEST'"
      ],
      "metadata": {
        "id": "QNC7QXSfohTo"
      },
      "execution_count": 90,
      "outputs": []
    },
    {
      "cell_type": "markdown",
      "source": [
        "Augmentasi Data"
      ],
      "metadata": {
        "id": "yFs4nmY0oygK"
      }
    },
    {
      "cell_type": "code",
      "source": [
        "from tensorflow.keras.applications import MobileNetV2\n",
        "from tensorflow.keras.layers import Dense, GlobalAveragePooling2D, Dropout\n",
        "from tensorflow.keras.models import Model\n",
        "from tensorflow.keras.optimizers import Adam\n",
        "from tensorflow.keras.callbacks import LearningRateScheduler"
      ],
      "metadata": {
        "id": "OQ7OKybIo169"
      },
      "execution_count": 91,
      "outputs": []
    },
    {
      "cell_type": "code",
      "source": [
        "train_datagen = ImageDataGenerator(\n",
        "    rescale=1./255,\n",
        "    rotation_range=20,\n",
        "    width_shift_range=0.2,\n",
        "    height_shift_range=0.2,\n",
        "    shear_range=0.2,\n",
        "    zoom_range=0.2,\n",
        "    horizontal_flip=True,\n",
        "    fill_mode='nearest',\n",
        "    validation_split=0.2)"
      ],
      "metadata": {
        "id": "-aeQfIFlo3JB"
      },
      "execution_count": 92,
      "outputs": []
    },
    {
      "cell_type": "code",
      "source": [
        "test_datagen = ImageDataGenerator(rescale=1./255)"
      ],
      "metadata": {
        "id": "6VtTda2jpIgp"
      },
      "execution_count": 93,
      "outputs": []
    },
    {
      "cell_type": "code",
      "source": [
        "train_generator = train_datagen.flow_from_directory(\n",
        "    train_dir,\n",
        "    target_size=(224, 224),\n",
        "    batch_size=32,\n",
        "    class_mode='categorical',\n",
        "    subset='training')"
      ],
      "metadata": {
        "colab": {
          "base_uri": "https://localhost:8080/"
        },
        "id": "s8otu2W-pKMA",
        "outputId": "6a19b857-d8d3-4c87-eb12-d65851d1938e"
      },
      "execution_count": 94,
      "outputs": [
        {
          "output_type": "stream",
          "name": "stdout",
          "text": [
            "Found 640 images belonging to 10 classes.\n"
          ]
        }
      ]
    },
    {
      "cell_type": "code",
      "source": [
        "validation_generator = train_datagen.flow_from_directory(\n",
        "    train_dir,\n",
        "    target_size=(224, 224),\n",
        "    batch_size=32,\n",
        "    class_mode='categorical',\n",
        "    subset='validation')"
      ],
      "metadata": {
        "colab": {
          "base_uri": "https://localhost:8080/"
        },
        "id": "33FUIEImpL0s",
        "outputId": "f8124a99-1114-4bb0-de4f-1c18c4f89a2a"
      },
      "execution_count": 95,
      "outputs": [
        {
          "output_type": "stream",
          "name": "stdout",
          "text": [
            "Found 160 images belonging to 10 classes.\n"
          ]
        }
      ]
    },
    {
      "cell_type": "code",
      "source": [
        "test_generator = test_datagen.flow_from_directory(\n",
        "    test_dir,\n",
        "    target_size=(224, 224),\n",
        "    batch_size=32,\n",
        "    class_mode='categorical')"
      ],
      "metadata": {
        "colab": {
          "base_uri": "https://localhost:8080/"
        },
        "id": "VlgwZUIfqBFK",
        "outputId": "d83f00c3-d287-412e-bcdc-1ee9c09d1339"
      },
      "execution_count": 96,
      "outputs": [
        {
          "output_type": "stream",
          "name": "stdout",
          "text": [
            "Found 200 images belonging to 10 classes.\n"
          ]
        }
      ]
    },
    {
      "cell_type": "markdown",
      "source": [
        "Model MobileNetV2"
      ],
      "metadata": {
        "id": "2USpNjhipVwH"
      }
    },
    {
      "cell_type": "code",
      "source": [
        "base_model = MobileNetV2(weights='imagenet', include_top=False, input_shape=(224, 224, 3))"
      ],
      "metadata": {
        "id": "iOGYxEcZpZ1K"
      },
      "execution_count": 97,
      "outputs": []
    },
    {
      "cell_type": "code",
      "source": [
        "base_model.trainable = False\n",
        "\n",
        "x = base_model.output\n",
        "x = GlobalAveragePooling2D()(x)\n",
        "x = Dense(1024, activation='relu')(x)\n",
        "x = Dropout(0.5)(x)\n",
        "predictions = Dense(10, activation='softmax')(x)"
      ],
      "metadata": {
        "id": "mk9vhHxspcB8"
      },
      "execution_count": 98,
      "outputs": []
    },
    {
      "cell_type": "code",
      "source": [
        "model = Model(inputs=base_model.input, outputs=predictions)"
      ],
      "metadata": {
        "id": "gYvWtQdjpfLj"
      },
      "execution_count": 99,
      "outputs": []
    },
    {
      "cell_type": "code",
      "source": [
        "opt = Adam(learning_rate=1e-4)  # Set initial learning rate\n",
        "model.compile(optimizer=opt, loss='categorical_crossentropy', metrics=['accuracy'])"
      ],
      "metadata": {
        "id": "PsIzTZJCpiUj"
      },
      "execution_count": 100,
      "outputs": []
    },
    {
      "cell_type": "code",
      "source": [
        "def lr_scheduler(epoch, lr):\n",
        "    if epoch < 10:\n",
        "        return lr\n",
        "    else:\n",
        "        return lr * tf.math.exp(-0.1)"
      ],
      "metadata": {
        "id": "qX3NVhs3C_mZ"
      },
      "execution_count": 101,
      "outputs": []
    },
    {
      "cell_type": "code",
      "source": [
        "history = model.fit(\n",
        "    train_generator,\n",
        "    epochs=50,\n",
        "    validation_data=validation_generator,\n",
        "    callbacks=[LearningRateScheduler(lr_scheduler, verbose=1)]\n",
        ")"
      ],
      "metadata": {
        "colab": {
          "base_uri": "https://localhost:8080/"
        },
        "id": "_ifIgLmFpkp6",
        "outputId": "0e114666-cc36-4bca-89b1-a381539c60a8"
      },
      "execution_count": 102,
      "outputs": [
        {
          "output_type": "stream",
          "name": "stdout",
          "text": [
            "\n",
            "Epoch 1: LearningRateScheduler setting learning rate to 9.999999747378752e-05.\n",
            "Epoch 1/50\n",
            "20/20 [==============================] - 20s 802ms/step - loss: 2.5366 - accuracy: 0.1484 - val_loss: 2.0301 - val_accuracy: 0.2313 - lr: 1.0000e-04\n",
            "\n",
            "Epoch 2: LearningRateScheduler setting learning rate to 9.999999747378752e-05.\n",
            "Epoch 2/50\n",
            "20/20 [==============================] - 15s 744ms/step - loss: 1.9035 - accuracy: 0.3219 - val_loss: 1.7870 - val_accuracy: 0.3063 - lr: 1.0000e-04\n",
            "\n",
            "Epoch 3: LearningRateScheduler setting learning rate to 9.999999747378752e-05.\n",
            "Epoch 3/50\n",
            "20/20 [==============================] - 15s 746ms/step - loss: 1.6363 - accuracy: 0.4281 - val_loss: 1.7805 - val_accuracy: 0.2812 - lr: 1.0000e-04\n",
            "\n",
            "Epoch 4: LearningRateScheduler setting learning rate to 9.999999747378752e-05.\n",
            "Epoch 4/50\n",
            "20/20 [==============================] - 15s 757ms/step - loss: 1.4666 - accuracy: 0.4531 - val_loss: 1.7270 - val_accuracy: 0.3438 - lr: 1.0000e-04\n",
            "\n",
            "Epoch 5: LearningRateScheduler setting learning rate to 9.999999747378752e-05.\n",
            "Epoch 5/50\n",
            "20/20 [==============================] - 15s 742ms/step - loss: 1.3736 - accuracy: 0.4938 - val_loss: 1.7247 - val_accuracy: 0.3063 - lr: 1.0000e-04\n",
            "\n",
            "Epoch 6: LearningRateScheduler setting learning rate to 9.999999747378752e-05.\n",
            "Epoch 6/50\n",
            "20/20 [==============================] - 15s 740ms/step - loss: 1.2929 - accuracy: 0.5109 - val_loss: 1.6857 - val_accuracy: 0.3500 - lr: 1.0000e-04\n",
            "\n",
            "Epoch 7: LearningRateScheduler setting learning rate to 9.999999747378752e-05.\n",
            "Epoch 7/50\n",
            "20/20 [==============================] - 17s 849ms/step - loss: 1.2043 - accuracy: 0.5625 - val_loss: 1.6647 - val_accuracy: 0.3562 - lr: 1.0000e-04\n",
            "\n",
            "Epoch 8: LearningRateScheduler setting learning rate to 9.999999747378752e-05.\n",
            "Epoch 8/50\n",
            "20/20 [==============================] - 15s 751ms/step - loss: 1.1729 - accuracy: 0.5719 - val_loss: 1.6231 - val_accuracy: 0.3562 - lr: 1.0000e-04\n",
            "\n",
            "Epoch 9: LearningRateScheduler setting learning rate to 9.999999747378752e-05.\n",
            "Epoch 9/50\n",
            "20/20 [==============================] - 15s 759ms/step - loss: 1.1117 - accuracy: 0.5906 - val_loss: 1.6599 - val_accuracy: 0.3562 - lr: 1.0000e-04\n",
            "\n",
            "Epoch 10: LearningRateScheduler setting learning rate to 9.999999747378752e-05.\n",
            "Epoch 10/50\n",
            "20/20 [==============================] - 15s 749ms/step - loss: 1.0918 - accuracy: 0.6109 - val_loss: 1.5745 - val_accuracy: 0.3938 - lr: 1.0000e-04\n",
            "\n",
            "Epoch 11: LearningRateScheduler setting learning rate to 9.048373613040894e-05.\n",
            "Epoch 11/50\n",
            "20/20 [==============================] - 15s 747ms/step - loss: 1.0140 - accuracy: 0.6250 - val_loss: 1.6412 - val_accuracy: 0.3313 - lr: 9.0484e-05\n",
            "\n",
            "Epoch 12: LearningRateScheduler setting learning rate to 8.187306229956448e-05.\n",
            "Epoch 12/50\n",
            "20/20 [==============================] - 15s 757ms/step - loss: 0.9499 - accuracy: 0.6500 - val_loss: 1.6328 - val_accuracy: 0.3375 - lr: 8.1873e-05\n",
            "\n",
            "Epoch 13: LearningRateScheduler setting learning rate to 7.408180681522936e-05.\n",
            "Epoch 13/50\n",
            "20/20 [==============================] - 15s 752ms/step - loss: 0.9716 - accuracy: 0.6406 - val_loss: 1.5879 - val_accuracy: 0.3812 - lr: 7.4082e-05\n",
            "\n",
            "Epoch 14: LearningRateScheduler setting learning rate to 6.703198596369475e-05.\n",
            "Epoch 14/50\n",
            "20/20 [==============================] - 15s 743ms/step - loss: 0.8763 - accuracy: 0.6859 - val_loss: 1.6009 - val_accuracy: 0.3750 - lr: 6.7032e-05\n",
            "\n",
            "Epoch 15: LearningRateScheduler setting learning rate to 6.065304478397593e-05.\n",
            "Epoch 15/50\n",
            "20/20 [==============================] - 15s 764ms/step - loss: 0.8846 - accuracy: 0.6953 - val_loss: 1.5670 - val_accuracy: 0.3625 - lr: 6.0653e-05\n",
            "\n",
            "Epoch 16: LearningRateScheduler setting learning rate to 5.488114038598724e-05.\n",
            "Epoch 16/50\n",
            "20/20 [==============================] - 15s 745ms/step - loss: 0.8677 - accuracy: 0.6844 - val_loss: 1.6313 - val_accuracy: 0.3688 - lr: 5.4881e-05\n",
            "\n",
            "Epoch 17: LearningRateScheduler setting learning rate to 4.9658505304250866e-05.\n",
            "Epoch 17/50\n",
            "20/20 [==============================] - 15s 760ms/step - loss: 0.8485 - accuracy: 0.6969 - val_loss: 1.6022 - val_accuracy: 0.3688 - lr: 4.9659e-05\n",
            "\n",
            "Epoch 18: LearningRateScheduler setting learning rate to 4.493287269724533e-05.\n",
            "Epoch 18/50\n",
            "20/20 [==============================] - 15s 746ms/step - loss: 0.8187 - accuracy: 0.6969 - val_loss: 1.6593 - val_accuracy: 0.3063 - lr: 4.4933e-05\n",
            "\n",
            "Epoch 19: LearningRateScheduler setting learning rate to 4.065694156452082e-05.\n",
            "Epoch 19/50\n",
            "20/20 [==============================] - 15s 770ms/step - loss: 0.8505 - accuracy: 0.7031 - val_loss: 1.6551 - val_accuracy: 0.3625 - lr: 4.0657e-05\n",
            "\n",
            "Epoch 20: LearningRateScheduler setting learning rate to 3.678791836136952e-05.\n",
            "Epoch 20/50\n",
            "20/20 [==============================] - 15s 747ms/step - loss: 0.8301 - accuracy: 0.7031 - val_loss: 1.6438 - val_accuracy: 0.3500 - lr: 3.6788e-05\n",
            "\n",
            "Epoch 21: LearningRateScheduler setting learning rate to 3.328708407934755e-05.\n",
            "Epoch 21/50\n",
            "20/20 [==============================] - 15s 761ms/step - loss: 0.8692 - accuracy: 0.6844 - val_loss: 1.6087 - val_accuracy: 0.3500 - lr: 3.3287e-05\n",
            "\n",
            "Epoch 22: LearningRateScheduler setting learning rate to 3.0119397706585005e-05.\n",
            "Epoch 22/50\n",
            "20/20 [==============================] - 16s 821ms/step - loss: 0.8190 - accuracy: 0.7125 - val_loss: 1.6419 - val_accuracy: 0.3812 - lr: 3.0119e-05\n",
            "\n",
            "Epoch 23: LearningRateScheduler setting learning rate to 2.7253156076767482e-05.\n",
            "Epoch 23/50\n",
            "20/20 [==============================] - 15s 759ms/step - loss: 0.7914 - accuracy: 0.7250 - val_loss: 1.5613 - val_accuracy: 0.3875 - lr: 2.7253e-05\n",
            "\n",
            "Epoch 24: LearningRateScheduler setting learning rate to 2.4659673727001064e-05.\n",
            "Epoch 24/50\n",
            "20/20 [==============================] - 15s 751ms/step - loss: 0.8090 - accuracy: 0.7094 - val_loss: 1.6737 - val_accuracy: 0.3438 - lr: 2.4660e-05\n",
            "\n",
            "Epoch 25: LearningRateScheduler setting learning rate to 2.231299367849715e-05.\n",
            "Epoch 25/50\n",
            "20/20 [==============================] - 15s 756ms/step - loss: 0.7603 - accuracy: 0.7500 - val_loss: 1.6470 - val_accuracy: 0.3875 - lr: 2.2313e-05\n",
            "\n",
            "Epoch 26: LearningRateScheduler setting learning rate to 2.0189630959066562e-05.\n",
            "Epoch 26/50\n",
            "20/20 [==============================] - 15s 753ms/step - loss: 0.8023 - accuracy: 0.7312 - val_loss: 1.5966 - val_accuracy: 0.3500 - lr: 2.0190e-05\n",
            "\n",
            "Epoch 27: LearningRateScheduler setting learning rate to 1.826833249651827e-05.\n",
            "Epoch 27/50\n",
            "20/20 [==============================] - 15s 760ms/step - loss: 0.7502 - accuracy: 0.7469 - val_loss: 1.6173 - val_accuracy: 0.3500 - lr: 1.8268e-05\n",
            "\n",
            "Epoch 28: LearningRateScheduler setting learning rate to 1.6529869753867388e-05.\n",
            "Epoch 28/50\n",
            "20/20 [==============================] - 15s 743ms/step - loss: 0.7788 - accuracy: 0.7266 - val_loss: 1.5470 - val_accuracy: 0.3688 - lr: 1.6530e-05\n",
            "\n",
            "Epoch 29: LearningRateScheduler setting learning rate to 1.4956844097469002e-05.\n",
            "Epoch 29/50\n",
            "20/20 [==============================] - 15s 754ms/step - loss: 0.7960 - accuracy: 0.7266 - val_loss: 1.6056 - val_accuracy: 0.3875 - lr: 1.4957e-05\n",
            "\n",
            "Epoch 30: LearningRateScheduler setting learning rate to 1.353351126454072e-05.\n",
            "Epoch 30/50\n",
            "20/20 [==============================] - 15s 757ms/step - loss: 0.7432 - accuracy: 0.7406 - val_loss: 1.6783 - val_accuracy: 0.4125 - lr: 1.3534e-05\n",
            "\n",
            "Epoch 31: LearningRateScheduler setting learning rate to 1.2245626749063376e-05.\n",
            "Epoch 31/50\n",
            "20/20 [==============================] - 15s 759ms/step - loss: 0.7880 - accuracy: 0.7109 - val_loss: 1.5779 - val_accuracy: 0.3625 - lr: 1.2246e-05\n",
            "\n",
            "Epoch 32: LearningRateScheduler setting learning rate to 1.1080300282628741e-05.\n",
            "Epoch 32/50\n",
            "20/20 [==============================] - 15s 758ms/step - loss: 0.7760 - accuracy: 0.7156 - val_loss: 1.6251 - val_accuracy: 0.3750 - lr: 1.1080e-05\n",
            "\n",
            "Epoch 33: LearningRateScheduler setting learning rate to 1.002586941467598e-05.\n",
            "Epoch 33/50\n",
            "20/20 [==============================] - 15s 751ms/step - loss: 0.7281 - accuracy: 0.7578 - val_loss: 1.5760 - val_accuracy: 0.3688 - lr: 1.0026e-05\n",
            "\n",
            "Epoch 34: LearningRateScheduler setting learning rate to 9.071781278180424e-06.\n",
            "Epoch 34/50\n",
            "20/20 [==============================] - 15s 756ms/step - loss: 0.7523 - accuracy: 0.7375 - val_loss: 1.6506 - val_accuracy: 0.3625 - lr: 9.0718e-06\n",
            "\n",
            "Epoch 35: LearningRateScheduler setting learning rate to 8.208487088268157e-06.\n",
            "Epoch 35/50\n",
            "20/20 [==============================] - 15s 758ms/step - loss: 0.7050 - accuracy: 0.7688 - val_loss: 1.6103 - val_accuracy: 0.3812 - lr: 8.2085e-06\n",
            "\n",
            "Epoch 36: LearningRateScheduler setting learning rate to 7.427345735777635e-06.\n",
            "Epoch 36/50\n",
            "20/20 [==============================] - 15s 768ms/step - loss: 0.7662 - accuracy: 0.7234 - val_loss: 1.6500 - val_accuracy: 0.3562 - lr: 7.4273e-06\n",
            "\n",
            "Epoch 37: LearningRateScheduler setting learning rate to 6.72054011374712e-06.\n",
            "Epoch 37/50\n",
            "20/20 [==============================] - 15s 759ms/step - loss: 0.7516 - accuracy: 0.7406 - val_loss: 1.6242 - val_accuracy: 0.3438 - lr: 6.7205e-06\n",
            "\n",
            "Epoch 38: LearningRateScheduler setting learning rate to 6.080995717638871e-06.\n",
            "Epoch 38/50\n",
            "20/20 [==============================] - 15s 764ms/step - loss: 0.7333 - accuracy: 0.7359 - val_loss: 1.5748 - val_accuracy: 0.4125 - lr: 6.0810e-06\n",
            "\n",
            "Epoch 39: LearningRateScheduler setting learning rate to 5.5023119784891605e-06.\n",
            "Epoch 39/50\n",
            "20/20 [==============================] - 15s 749ms/step - loss: 0.7446 - accuracy: 0.7531 - val_loss: 1.6348 - val_accuracy: 0.3375 - lr: 5.5023e-06\n",
            "\n",
            "Epoch 40: LearningRateScheduler setting learning rate to 4.97869768878445e-06.\n",
            "Epoch 40/50\n",
            "20/20 [==============================] - 15s 749ms/step - loss: 0.7491 - accuracy: 0.7344 - val_loss: 1.5534 - val_accuracy: 0.3938 - lr: 4.9787e-06\n",
            "\n",
            "Epoch 41: LearningRateScheduler setting learning rate to 4.5049118853057735e-06.\n",
            "Epoch 41/50\n",
            "20/20 [==============================] - 15s 749ms/step - loss: 0.7356 - accuracy: 0.7391 - val_loss: 1.6068 - val_accuracy: 0.3625 - lr: 4.5049e-06\n",
            "\n",
            "Epoch 42: LearningRateScheduler setting learning rate to 4.076212462678086e-06.\n",
            "Epoch 42/50\n",
            "20/20 [==============================] - 15s 755ms/step - loss: 0.7318 - accuracy: 0.7516 - val_loss: 1.5675 - val_accuracy: 0.3313 - lr: 4.0762e-06\n",
            "\n",
            "Epoch 43: LearningRateScheduler setting learning rate to 3.688309334393125e-06.\n",
            "Epoch 43/50\n",
            "20/20 [==============================] - 15s 750ms/step - loss: 0.7038 - accuracy: 0.7766 - val_loss: 1.6281 - val_accuracy: 0.3688 - lr: 3.6883e-06\n",
            "\n",
            "Epoch 44: LearningRateScheduler setting learning rate to 3.3373200949426973e-06.\n",
            "Epoch 44/50\n",
            "20/20 [==============================] - 15s 750ms/step - loss: 0.7321 - accuracy: 0.7484 - val_loss: 1.6119 - val_accuracy: 0.3812 - lr: 3.3373e-06\n",
            "\n",
            "Epoch 45: LearningRateScheduler setting learning rate to 3.0197320484148804e-06.\n",
            "Epoch 45/50\n",
            "20/20 [==============================] - 15s 776ms/step - loss: 0.7746 - accuracy: 0.7312 - val_loss: 1.5611 - val_accuracy: 0.3688 - lr: 3.0197e-06\n",
            "\n",
            "Epoch 46: LearningRateScheduler setting learning rate to 2.732366510826978e-06.\n",
            "Epoch 46/50\n",
            "20/20 [==============================] - 17s 858ms/step - loss: 0.7490 - accuracy: 0.7391 - val_loss: 1.5845 - val_accuracy: 0.3938 - lr: 2.7324e-06\n",
            "\n",
            "Epoch 47: LearningRateScheduler setting learning rate to 2.4723474325583084e-06.\n",
            "Epoch 47/50\n",
            "20/20 [==============================] - 15s 767ms/step - loss: 0.7800 - accuracy: 0.7312 - val_loss: 1.5542 - val_accuracy: 0.4062 - lr: 2.4723e-06\n",
            "\n",
            "Epoch 48: LearningRateScheduler setting learning rate to 2.2370722945197485e-06.\n",
            "Epoch 48/50\n",
            "20/20 [==============================] - 15s 749ms/step - loss: 0.7448 - accuracy: 0.7375 - val_loss: 1.6199 - val_accuracy: 0.3250 - lr: 2.2371e-06\n",
            "\n",
            "Epoch 49: LearningRateScheduler setting learning rate to 2.0241866423020838e-06.\n",
            "Epoch 49/50\n",
            "20/20 [==============================] - 15s 762ms/step - loss: 0.7414 - accuracy: 0.7563 - val_loss: 1.5918 - val_accuracy: 0.4000 - lr: 2.0242e-06\n",
            "\n",
            "Epoch 50: LearningRateScheduler setting learning rate to 1.8315597571927356e-06.\n",
            "Epoch 50/50\n",
            "20/20 [==============================] - 15s 744ms/step - loss: 0.7225 - accuracy: 0.7359 - val_loss: 1.6276 - val_accuracy: 0.3812 - lr: 1.8316e-06\n"
          ]
        }
      ]
    },
    {
      "cell_type": "code",
      "source": [
        "test_loss, test_acc = model.evaluate(test_generator)\n",
        "print(f'Test Accuracy: {test_acc * 100:.2f}%')"
      ],
      "metadata": {
        "colab": {
          "base_uri": "https://localhost:8080/"
        },
        "id": "Ox_FcURjq0dn",
        "outputId": "d0f23ef5-3ab8-4b32-e480-21aa51bdcc32"
      },
      "execution_count": 103,
      "outputs": [
        {
          "output_type": "stream",
          "name": "stdout",
          "text": [
            "7/7 [==============================] - 2s 300ms/step - loss: 1.6425 - accuracy: 0.3650\n",
            "Test Accuracy: 36.50%\n"
          ]
        }
      ]
    }
  ]
}