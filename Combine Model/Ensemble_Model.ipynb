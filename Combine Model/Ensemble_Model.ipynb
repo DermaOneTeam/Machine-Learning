{
  "cells": [
    {
      "cell_type": "code",
      "execution_count": 11,
      "metadata": {
        "id": "7xF4qZMdeuQY"
      },
      "outputs": [],
      "source": [
        "from tensorflow.keras.models import load_model\n",
        "from tensorflow.keras.layers import Input, Concatenate\n",
        "from tensorflow.keras.models import Model\n",
        "from tensorflow.keras.utils import get_custom_objects\n",
        "import tensorflow as tf"
      ]
    },
    {
      "cell_type": "code",
      "execution_count": 12,
      "metadata": {
        "id": "flJSaqvse0Zm"
      },
      "outputs": [],
      "source": [
        "# Definisikan focal_loss_fixed\n",
        "def focal_loss(gamma=2., alpha=4.):\n",
        "    def focal_loss_fixed(y_true, y_pred):\n",
        "        epsilon = tf.keras.backend.epsilon()\n",
        "        y_pred = tf.clip_by_value(y_pred, epsilon, 1. - epsilon)\n",
        "        y_true = tf.cast(y_true, tf.float32)\n",
        "\n",
        "        alpha_t = y_true * alpha + (tf.ones_like(y_true) - y_true) * (1 - alpha)\n",
        "        p_t = y_true * y_pred + (tf.ones_like(y_true) - y_true) * (tf.ones_like(y_true) - y_pred)\n",
        "        fl = - alpha_t * tf.pow((tf.ones_like(y_true) - p_t), gamma) * tf.math.log(p_t)\n",
        "        return tf.reduce_mean(fl)\n",
        "    return focal_loss_fixed"
      ]
    },
    {
      "cell_type": "code",
      "execution_count": 13,
      "metadata": {},
      "outputs": [],
      "source": [
        "# Tambahkan fungsi kustom ke dalam custom objects\n",
        "get_custom_objects().update({'focal_loss_fixed': focal_loss()})"
      ]
    },
    {
      "cell_type": "code",
      "execution_count": 14,
      "metadata": {},
      "outputs": [],
      "source": [
        "# Muat model dengan custom_objects\n",
        "model1 = load_model('Model1_DermaOne.h5', custom_objects={'focal_loss_fixed': focal_loss()})\n",
        "model2 = load_model('Model2_DermaOne.h5', custom_objects={'focal_loss_fixed': focal_loss()})"
      ]
    },
    {
      "cell_type": "code",
      "execution_count": 15,
      "metadata": {
        "id": "VY6Z7ZrxfJn5"
      },
      "outputs": [],
      "source": [
        "# Define input shape\n",
        "input_shape = model1.input_shape[1:]\n",
        "\n",
        "# Create input layer\n",
        "input_layer = Input(shape=input_shape)\n",
        "\n",
        "# Get outputs from both models\n",
        "output1 = model1(input_layer)\n",
        "output2 = model2(input_layer)\n",
        "\n",
        "# Concatenate the outputs\n",
        "combined_output = Concatenate()([output1, output2])\n",
        "\n",
        "# Create and compile ensemble model\n",
        "ensemble_model = Model(inputs=input_layer, outputs=combined_output)\n",
        "ensemble_model.compile(optimizer='adam', loss='categorical_crossentropy', metrics=['accuracy'])"
      ]
    },
    {
      "cell_type": "code",
      "execution_count": 16,
      "metadata": {
        "colab": {
          "base_uri": "https://localhost:8080/"
        },
        "id": "mRzOfn8YfO27",
        "outputId": "a3ed77f5-ed2b-4ee2-9c22-79d4c774a57b"
      },
      "outputs": [
        {
          "name": "stderr",
          "output_type": "stream",
          "text": [
            "c:\\Users\\User\\AppData\\Local\\python\\Lib\\site-packages\\keras\\src\\engine\\training.py:3079: UserWarning: You are saving your model as an HDF5 file via `model.save()`. This file format is considered legacy. We recommend using instead the native Keras format, e.g. `model.save('my_model.keras')`.\n",
            "  saving_api.save_model(\n"
          ]
        }
      ],
      "source": [
        "# Save the ensemble model in HDF5 format\n",
        "ensemble_model.save('Model_DermaOne.h5')"
      ]
    }
  ],
  "metadata": {
    "colab": {
      "provenance": []
    },
    "kernelspec": {
      "display_name": "Python 3.11.5 64-bit",
      "language": "python",
      "name": "python3"
    },
    "language_info": {
      "codemirror_mode": {
        "name": "ipython",
        "version": 3
      },
      "file_extension": ".py",
      "mimetype": "text/x-python",
      "name": "python",
      "nbconvert_exporter": "python",
      "pygments_lexer": "ipython3",
      "version": "3.11.5"
    },
    "vscode": {
      "interpreter": {
        "hash": "3424180f27657ed3e4f90d5219ff05140f44d7794bda1c8b341d6c8932c4db35"
      }
    }
  },
  "nbformat": 4,
  "nbformat_minor": 0
}
