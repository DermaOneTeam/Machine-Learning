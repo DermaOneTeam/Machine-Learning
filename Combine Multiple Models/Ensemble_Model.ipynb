{
  "nbformat": 4,
  "nbformat_minor": 0,
  "metadata": {
    "colab": {
      "provenance": []
    },
    "kernelspec": {
      "name": "python3",
      "display_name": "Python 3"
    },
    "language_info": {
      "name": "python"
    }
  },
  "cells": [
    {
      "cell_type": "code",
      "execution_count": null,
      "metadata": {
        "id": "7xF4qZMdeuQY"
      },
      "outputs": [],
      "source": [
        "from tensorflow.keras.models import load_model"
      ]
    },
    {
      "cell_type": "code",
      "source": [
        "# Load model yang sudah dilatih\n",
        "model1 = load_model('DermaOne_Model1.h5')\n",
        "model2 = load_model('DermaOne_Model2.h5')"
      ],
      "metadata": {
        "id": "flJSaqvse0Zm"
      },
      "execution_count": null,
      "outputs": []
    },
    {
      "cell_type": "code",
      "source": [
        "from tensorflow.keras.layers import Input, Concatenate\n",
        "from tensorflow.keras.models import Model"
      ],
      "metadata": {
        "id": "2fI0azwGe6xL"
      },
      "execution_count": null,
      "outputs": []
    },
    {
      "cell_type": "code",
      "source": [
        "# Asumsikan input_shape sesuai dengan bentuk input yang digunakan oleh model\n",
        "input_shape = model1.input_shape[1:]\n",
        "\n",
        "# Definisikan input layer\n",
        "input_layer = Input(shape=input_shape)\n",
        "\n",
        "# Dapatkan output dari kedua model\n",
        "output1 = model1(input_layer)\n",
        "output2 = model2(input_layer)\n",
        "\n",
        "# Gabungkan output dari kedua model\n",
        "combined_output = Concatenate()([output1, output2])\n",
        "\n",
        "# Buat model baru dengan input dan output gabungan\n",
        "ensemble_model = Model(inputs=input_layer, outputs=combined_output)\n",
        "\n",
        "# Kompilasi model baru\n",
        "ensemble_model.compile(optimizer='adam', loss='categorical_crossentropy', metrics=['accuracy'])"
      ],
      "metadata": {
        "id": "VY6Z7ZrxfJn5"
      },
      "execution_count": null,
      "outputs": []
    },
    {
      "cell_type": "code",
      "source": [
        "# Simpan model gabungan\n",
        "ensemble_model.save('DermaOne_Model.h5')"
      ],
      "metadata": {
        "colab": {
          "base_uri": "https://localhost:8080/"
        },
        "id": "mRzOfn8YfO27",
        "outputId": "a3ed77f5-ed2b-4ee2-9c22-79d4c774a57b"
      },
      "execution_count": null,
      "outputs": [
        {
          "output_type": "stream",
          "name": "stderr",
          "text": [
            "/usr/local/lib/python3.10/dist-packages/keras/src/engine/training.py:3103: UserWarning: You are saving your model as an HDF5 file via `model.save()`. This file format is considered legacy. We recommend using instead the native Keras format, e.g. `model.save('my_model.keras')`.\n",
            "  saving_api.save_model(\n"
          ]
        }
      ]
    }
  ]
}