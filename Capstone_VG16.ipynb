{
  "cells": [
    {
      "cell_type": "code",
      "execution_count": 5,
      "metadata": {
        "id": "xllCXgDLjHJk"
      },
      "outputs": [],
      "source": [
        "import tensorflow as tf\n",
        "from tensorflow.keras.preprocessing.image import ImageDataGenerator\n",
        "from tensorflow.keras.models import Sequential\n",
        "from tensorflow.keras.layers import Conv2D, MaxPooling2D, Flatten, Dense, Dropout\n",
        "from tensorflow.keras.optimizers import Adam\n",
        "import numpy as np\n",
        "import matplotlib.pyplot as plt\n",
        "from PIL import Image"
      ]
    },
    {
      "cell_type": "code",
      "execution_count": 6,
      "metadata": {
        "colab": {
          "base_uri": "https://localhost:8080/"
        },
        "id": "imEXxRfQpXp_",
        "outputId": "dfc42483-60bb-4f9f-9a48-b22e4228f0a6"
      },
      "outputs": [
        {
          "output_type": "stream",
          "name": "stdout",
          "text": [
            "Drive already mounted at /content/drive; to attempt to forcibly remount, call drive.mount(\"/content/drive\", force_remount=True).\n"
          ]
        }
      ],
      "source": [
        "from google.colab import drive\n",
        "drive.mount('/content/drive')"
      ]
    },
    {
      "cell_type": "code",
      "execution_count": 7,
      "metadata": {
        "id": "XVhSZZ00p-5D"
      },
      "outputs": [],
      "source": [
        "train_dir = '/content/drive/MyDrive/Skin Disease_dataset/TRAIN'\n",
        "test_dir = '/content/drive/MyDrive/Skin Disease_dataset/TEST'"
      ]
    },
    {
      "cell_type": "code",
      "execution_count": 8,
      "metadata": {
        "colab": {
          "base_uri": "https://localhost:8080/"
        },
        "id": "Wh28vs9ZqKGg",
        "outputId": "65193ce0-c8af-4a54-eaa3-b1c21049369c"
      },
      "outputs": [
        {
          "output_type": "stream",
          "name": "stdout",
          "text": [
            "Drive already mounted at /content/drive; to attempt to forcibly remount, call drive.mount(\"/content/drive\", force_remount=True).\n",
            "Found 800 images belonging to 10 classes.\n",
            "Found 200 images belonging to 10 classes.\n",
            "Downloading data from https://storage.googleapis.com/tensorflow/keras-applications/vgg16/vgg16_weights_tf_dim_ordering_tf_kernels_notop.h5\n",
            "58889256/58889256 [==============================] - 0s 0us/step\n",
            "Epoch 1/25\n",
            "25/25 [==============================] - 323s 13s/step - loss: 2.2412 - accuracy: 0.1800 - val_loss: 2.0377 - val_accuracy: 0.2656\n",
            "Epoch 2/25\n",
            "25/25 [==============================] - 12s 476ms/step - loss: 1.9538 - accuracy: 0.2512 - val_loss: 1.9373 - val_accuracy: 0.3125\n",
            "Epoch 3/25\n",
            "25/25 [==============================] - 12s 485ms/step - loss: 1.7290 - accuracy: 0.3550 - val_loss: 1.8616 - val_accuracy: 0.2865\n",
            "Epoch 4/25\n",
            "25/25 [==============================] - 12s 490ms/step - loss: 1.6272 - accuracy: 0.3738 - val_loss: 1.8681 - val_accuracy: 0.3177\n",
            "Epoch 5/25\n",
            "25/25 [==============================] - 12s 487ms/step - loss: 1.5700 - accuracy: 0.4075 - val_loss: 1.8395 - val_accuracy: 0.3333\n",
            "Epoch 6/25\n",
            "25/25 [==============================] - 13s 536ms/step - loss: 1.5239 - accuracy: 0.4137 - val_loss: 1.8390 - val_accuracy: 0.3438\n",
            "Epoch 7/25\n",
            "25/25 [==============================] - 12s 491ms/step - loss: 1.4842 - accuracy: 0.4275 - val_loss: 1.8407 - val_accuracy: 0.3490\n",
            "Epoch 8/25\n",
            "25/25 [==============================] - 12s 486ms/step - loss: 1.4369 - accuracy: 0.4563 - val_loss: 1.7991 - val_accuracy: 0.3854\n",
            "Epoch 9/25\n",
            "25/25 [==============================] - 11s 459ms/step - loss: 1.3924 - accuracy: 0.4737 - val_loss: 1.7686 - val_accuracy: 0.3542\n",
            "Epoch 10/25\n",
            "25/25 [==============================] - 12s 456ms/step - loss: 1.4029 - accuracy: 0.4787 - val_loss: 1.8180 - val_accuracy: 0.3333\n",
            "Epoch 11/25\n",
            "25/25 [==============================] - 13s 530ms/step - loss: 1.3275 - accuracy: 0.4863 - val_loss: 1.8250 - val_accuracy: 0.3542\n",
            "Epoch 12/25\n",
            "25/25 [==============================] - 12s 492ms/step - loss: 1.3107 - accuracy: 0.5088 - val_loss: 1.7165 - val_accuracy: 0.4062\n",
            "Epoch 13/25\n",
            "25/25 [==============================] - 12s 473ms/step - loss: 1.2988 - accuracy: 0.5188 - val_loss: 1.7624 - val_accuracy: 0.3958\n",
            "Epoch 14/25\n",
            "25/25 [==============================] - 13s 526ms/step - loss: 1.2719 - accuracy: 0.5125 - val_loss: 1.8211 - val_accuracy: 0.3542\n",
            "Epoch 15/25\n",
            "25/25 [==============================] - 13s 513ms/step - loss: 1.2598 - accuracy: 0.5250 - val_loss: 1.7793 - val_accuracy: 0.3646\n",
            "Epoch 16/25\n",
            "25/25 [==============================] - 12s 494ms/step - loss: 1.2519 - accuracy: 0.5175 - val_loss: 1.7240 - val_accuracy: 0.3646\n",
            "Epoch 17/25\n",
            "25/25 [==============================] - 12s 493ms/step - loss: 1.2036 - accuracy: 0.5450 - val_loss: 1.7294 - val_accuracy: 0.3854\n",
            "Epoch 18/25\n",
            "25/25 [==============================] - 12s 486ms/step - loss: 1.1878 - accuracy: 0.5350 - val_loss: 1.7738 - val_accuracy: 0.3438\n",
            "Epoch 19/25\n",
            "25/25 [==============================] - 12s 494ms/step - loss: 1.1781 - accuracy: 0.5500 - val_loss: 1.8564 - val_accuracy: 0.3177\n",
            "Epoch 20/25\n",
            "25/25 [==============================] - 13s 529ms/step - loss: 1.1770 - accuracy: 0.5638 - val_loss: 1.8268 - val_accuracy: 0.3333\n",
            "Epoch 21/25\n",
            "25/25 [==============================] - 12s 491ms/step - loss: 1.1284 - accuracy: 0.5875 - val_loss: 1.7953 - val_accuracy: 0.3802\n",
            "Epoch 22/25\n",
            "25/25 [==============================] - 12s 491ms/step - loss: 1.1312 - accuracy: 0.5688 - val_loss: 1.7860 - val_accuracy: 0.3854\n",
            "Epoch 23/25\n",
            "25/25 [==============================] - 12s 492ms/step - loss: 1.0879 - accuracy: 0.5925 - val_loss: 1.7605 - val_accuracy: 0.3854\n",
            "Epoch 24/25\n",
            "25/25 [==============================] - 13s 525ms/step - loss: 1.0907 - accuracy: 0.5938 - val_loss: 1.7751 - val_accuracy: 0.3906\n",
            "Epoch 25/25\n",
            "25/25 [==============================] - 12s 490ms/step - loss: 1.0995 - accuracy: 0.6062 - val_loss: 1.8377 - val_accuracy: 0.3438\n"
          ]
        }
      ],
      "source": [
        "import tensorflow as tf\n",
        "from tensorflow.keras.preprocessing.image import ImageDataGenerator\n",
        "from tensorflow.keras.models import Sequential\n",
        "from tensorflow.keras.layers import GlobalAveragePooling2D, Dense, Dropout\n",
        "from tensorflow.keras.optimizers import Adam\n",
        "from tensorflow.keras.applications import VGG16\n",
        "from google.colab import drive\n",
        "\n",
        "# Mount Google Drive\n",
        "drive.mount('/content/drive')\n",
        "\n",
        "train_dir = '/content/drive/MyDrive/Skin Disease_dataset/TRAIN'\n",
        "test_dir = '/content/drive/MyDrive/Skin Disease_dataset/TEST'\n",
        "\n",
        "# Data generators\n",
        "train_datagen = ImageDataGenerator(\n",
        "    rescale=1./255,\n",
        "    shear_range=0.2,\n",
        "    zoom_range=0.2,\n",
        "    horizontal_flip=True\n",
        ")\n",
        "\n",
        "test_datagen = ImageDataGenerator(rescale=1./255)\n",
        "\n",
        "train_generator = train_datagen.flow_from_directory(\n",
        "    train_dir,\n",
        "    target_size=(150, 150),\n",
        "    batch_size=32,\n",
        "    class_mode='categorical'\n",
        ")\n",
        "\n",
        "validation_generator = test_datagen.flow_from_directory(\n",
        "    test_dir,\n",
        "    target_size=(150, 150),\n",
        "    batch_size=32,\n",
        "    class_mode='categorical'\n",
        ")\n",
        "\n",
        "# Load VGG16 model without the top layers\n",
        "vgg_base = VGG16(weights='imagenet', include_top=False, input_shape=(150, 150, 3))\n",
        "\n",
        "# Freeze the convolutional base\n",
        "for layer in vgg_base.layers:\n",
        "    layer.trainable = False\n",
        "\n",
        "# Create a new model and add custom layers on top of VGG16 base\n",
        "model = Sequential([\n",
        "    vgg_base,\n",
        "    GlobalAveragePooling2D(),\n",
        "    Dense(512, activation='relu'),\n",
        "    Dropout(0.5),\n",
        "    Dense(10, activation='softmax')  # Update the number of classes to 10\n",
        "])\n",
        "\n",
        "# Compile the model\n",
        "model.compile(optimizer=Adam(),\n",
        "              loss='categorical_crossentropy',\n",
        "              metrics=['accuracy'])\n",
        "\n",
        "# Train the model\n",
        "history = model.fit(\n",
        "    train_generator,\n",
        "    steps_per_epoch=train_generator.samples // train_generator.batch_size,\n",
        "    epochs=25,\n",
        "    validation_data=validation_generator,\n",
        "    validation_steps=validation_generator.samples // validation_generator.batch_size\n",
        ")"
      ]
    }
  ],
  "metadata": {
    "colab": {
      "provenance": [],
      "gpuType": "T4"
    },
    "kernelspec": {
      "display_name": "Python 3",
      "name": "python3"
    },
    "language_info": {
      "name": "python"
    },
    "accelerator": "GPU"
  },
  "nbformat": 4,
  "nbformat_minor": 0
}